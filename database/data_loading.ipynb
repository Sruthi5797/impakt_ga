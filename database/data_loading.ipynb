{
 "cells": [
  {
   "cell_type": "code",
   "execution_count": 2,
   "metadata": {},
   "outputs": [],
   "source": [
    "import pyTigerGraph as tg\n",
    "hostName = \"http://bca6068839944d7cb3f6376b9b8a0295.i.tgcloud.io\"\n",
    "graphName = \"imapkt_rflp_sample\"\n",
    "userName = \"impakt_user\" #sradhakrishnan@itemis.com\n",
    "password = \"Bv5Gw4Le6Bk3Ew6{\"  # nheD3tPSUtQZb$\n",
    "\n",
    "conn = tg.TigerGraphConnection(host=hostName, username=userName, password=password)"
   ]
  },
  {
   "cell_type": "code",
   "execution_count": null,
   "metadata": {},
   "outputs": [],
   "source": []
  }
 ],
 "metadata": {
  "kernelspec": {
   "display_name": "Python 3.7.13 ('venv': venv)",
   "language": "python",
   "name": "python3"
  },
  "language_info": {
   "codemirror_mode": {
    "name": "ipython",
    "version": 3
   },
   "file_extension": ".py",
   "mimetype": "text/x-python",
   "name": "python",
   "nbconvert_exporter": "python",
   "pygments_lexer": "ipython3",
   "version": "3.7.13"
  },
  "orig_nbformat": 4,
  "vscode": {
   "interpreter": {
    "hash": "5c5ee1fe28b40d754a056a5f91a8e71b8d3a051dc510f5dde168ccd07e286717"
   }
  }
 },
 "nbformat": 4,
 "nbformat_minor": 2
}
